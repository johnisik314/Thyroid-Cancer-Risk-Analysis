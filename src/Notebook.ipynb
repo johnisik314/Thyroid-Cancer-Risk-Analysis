{
 "cells": [
  {
   "cell_type": "code",
   "execution_count": 8,
   "id": "3c08bedb-cfbf-4830-883b-dfb02e4d7206",
   "metadata": {},
   "outputs": [],
   "source": [
    "import kagglehub\n",
    "import pandas as pd\n",
    "import os\n",
    "import matplotlib.pyplot as plt\n",
    "import seaborn as sns\n"
   ]
  },
  {
   "cell_type": "code",
   "execution_count": 9,
   "id": "5cd2a411-46dd-4cac-ac62-b388434b0971",
   "metadata": {},
   "outputs": [
    {
     "name": "stdout",
     "output_type": "stream",
     "text": [
      "Dataset Shape: (212691, 17)\n",
      "   Patient_ID  Age  Gender      Country  Ethnicity Family_History  \\\n",
      "0           1   66    Male       Russia  Caucasian             No   \n",
      "1           2   29    Male      Germany   Hispanic             No   \n",
      "2           3   86    Male      Nigeria  Caucasian             No   \n",
      "3           4   75  Female        India      Asian             No   \n",
      "4           5   35  Female      Germany    African            Yes   \n",
      "5           6   89    Male           UK    African             No   \n",
      "6           7   89  Female  South Korea      Asian            Yes   \n",
      "7           8   38  Female        India    African             No   \n",
      "8           9   17  Female       Russia    African             No   \n",
      "9          10   36    Male      Germany      Asian             No   \n",
      "\n",
      "  Radiation_Exposure Iodine_Deficiency Smoking Obesity Diabetes  TSH_Level  \\\n",
      "0                Yes                No      No      No       No       9.37   \n",
      "1                Yes                No      No      No       No       1.83   \n",
      "2                 No                No      No      No       No       6.26   \n",
      "3                 No                No      No      No       No       4.10   \n",
      "4                Yes                No      No      No       No       9.10   \n",
      "5                 No                No     Yes     Yes       No       4.00   \n",
      "6                Yes                No      No     Yes       No       4.70   \n",
      "7                 No                No      No      No       No       5.54   \n",
      "8                Yes                No      No      No      Yes       2.30   \n",
      "9                 No                No      No     Yes       No       1.34   \n",
      "\n",
      "   T3_Level  T4_Level  Nodule_Size Thyroid_Cancer_Risk  Diagnosis  \n",
      "0      1.67      6.16         1.08                 Low     Benign  \n",
      "1      1.73     10.54         4.05                 Low     Benign  \n",
      "2      2.59     10.57         4.61                 Low     Benign  \n",
      "3      2.62     11.04         2.46              Medium     Benign  \n",
      "4      2.11     10.71         2.11                High     Benign  \n",
      "5      0.98      5.52         0.02              Medium     Benign  \n",
      "6      0.62     11.73         0.01                High  Malignant  \n",
      "7      3.49      9.47         4.30              Medium     Benign  \n",
      "8      2.60     11.89         0.81                High  Malignant  \n",
      "9      0.56      4.51         1.44                 Low     Benign  \n"
     ]
    }
   ],
   "source": [
    "# Define the correct dataset path\n",
    "dataset_path = \"~/Desktop/Thyroid_Cancer_Risk_Analysis/data/thyroid_cancer_risk_data.csv\"\n",
    "\n",
    "# Load the dataset\n",
    "df = pd.read_csv(dataset_path)\n",
    "\n",
    "# Display the first 10 rows\n",
    "print(\"Dataset Shape:\", df.shape)\n",
    "print(df.head(10))\n"
   ]
  },
  {
   "cell_type": "code",
   "execution_count": 10,
   "id": "be139fa0-e614-4947-b673-ae3450dbc04d",
   "metadata": {},
   "outputs": [
    {
     "name": "stdout",
     "output_type": "stream",
     "text": [
      "Dataset Shape: (212691, 17)\n"
     ]
    }
   ],
   "source": [
    "print(\"Dataset Shape:\", df.shape)"
   ]
  },
  {
   "cell_type": "code",
   "execution_count": 11,
   "id": "a5817506-9a4c-44bb-b8d3-1ab3bd62a6ea",
   "metadata": {},
   "outputs": [
    {
     "name": "stdout",
     "output_type": "stream",
     "text": [
      "\n",
      "Missing Values in Each Column:\n",
      "Patient_ID             0\n",
      "Age                    0\n",
      "Gender                 0\n",
      "Country                0\n",
      "Ethnicity              0\n",
      "Family_History         0\n",
      "Radiation_Exposure     0\n",
      "Iodine_Deficiency      0\n",
      "Smoking                0\n",
      "Obesity                0\n",
      "Diabetes               0\n",
      "TSH_Level              0\n",
      "T3_Level               0\n",
      "T4_Level               0\n",
      "Nodule_Size            0\n",
      "Thyroid_Cancer_Risk    0\n",
      "Diagnosis              0\n",
      "dtype: int64\n"
     ]
    }
   ],
   "source": [
    "# Check for null entries\n",
    "print(\"\\nMissing Values in Each Column:\")\n",
    "print(df.isnull().sum())"
   ]
  },
  {
   "cell_type": "code",
   "execution_count": 12,
   "id": "d74e4cf6-196c-474b-84de-cb11bbaf3dc6",
   "metadata": {},
   "outputs": [
    {
     "name": "stdout",
     "output_type": "stream",
     "text": [
      "\n",
      "Number of Duplicate Rows: 0\n"
     ]
    }
   ],
   "source": [
    "#Check for duplicate rows\n",
    "print(\"\\nNumber of Duplicate Rows:\", df.duplicated().sum())"
   ]
  },
  {
   "cell_type": "markdown",
   "id": "7dea6320-07f3-43e0-960e-06cfee9f3100",
   "metadata": {},
   "source": [
    "# **Feature Encoding Documentation 📊**\n",
    "\n",
    " Converting strings into numerical values allows us to use these informations in the analysis.\n",
    "\n",
    "## **1. Gender Encoding**\n",
    "Male → 1 <br>\n",
    "Female → 0"
   ]
  },
  {
   "cell_type": "code",
   "execution_count": 14,
   "id": "13b9dd4d-fb91-4bb9-a263-3f3f07bf7cd6",
   "metadata": {},
   "outputs": [],
   "source": [
    "gender_mapping = {\"Male\": 0, \"Female\": 1}\n",
    "df[\"Gender\"] = df[\"Gender\"].map(gender_mapping)"
   ]
  },
  {
   "cell_type": "markdown",
   "id": "606eaef9-05ec-48f1-ac1c-e6266dda23d9",
   "metadata": {},
   "source": [
    "## **2. Diagnosis Encoding**\n",
    "Benign → 0  \n",
    "Malignant → 1\n"
   ]
  },
  {
   "cell_type": "code",
   "execution_count": 16,
   "id": "f2739604-0fe2-4925-97e7-ddd65b813bc0",
   "metadata": {},
   "outputs": [],
   "source": [
    "diagnosis_mapping = {\"Benign\": 0, \"Malignant\": 1}\n",
    "df[\"Diagnosis\"] = df[\"Diagnosis\"].map(diagnosis_mapping)"
   ]
  },
  {
   "cell_type": "markdown",
   "id": "54ce9a4d-200d-4696-9da5-b6e97d839486",
   "metadata": {},
   "source": [
    "## **3. Binary (Yes/No) Encoding for Risk Factors**\n",
    "\n",
    "Converted \"Yes\" and \"No\" responses into numerical values: <br>\n",
    "Yes → 1  <br>\n",
    "No → 0\n"
   ]
  },
  {
   "cell_type": "code",
   "execution_count": 18,
   "id": "06933cc1-bce2-441a-a8d5-bb67ca501053",
   "metadata": {},
   "outputs": [],
   "source": [
    "from sklearn.preprocessing import LabelEncoder\n",
    "#Convert \"Yes/No\" to 1/0\n",
    "yes_no_cols = [\"Family_History\",\"Radiation_Exposure\",\"Iodine_Deficiency\",\"Smoking\",\"Obesity\",\"Diabetes\"]\n",
    "for col in yes_no_cols:\n",
    "    df[col] = df[col].map({\"No\": 0, \"Yes\": 1})\n",
    "\n"
   ]
  },
  {
   "cell_type": "markdown",
   "id": "1c77a478-1418-44ef-9e01-4c04d6e990ef",
   "metadata": {},
   "source": [
    "## **4. Thyroid Cancer Risk Encoding**\n",
    "\n",
    "Low → 0  <br>\n",
    "Medium → 1  <br>\n",
    "High → 2"
   ]
  },
  {
   "cell_type": "code",
   "execution_count": 20,
   "id": "64aa8ee8-cb02-4f8c-b634-fd59b358c2c0",
   "metadata": {},
   "outputs": [],
   "source": [
    "\n",
    "# Ensure there are no leading/trailing spaces\n",
    "df[\"Thyroid_Cancer_Risk\"] = df[\"Thyroid_Cancer_Risk\"].str.strip()\n",
    "\n",
    "# Define the mapping for \"Low\", \"Medium\", \"High\"\n",
    "risk_mapping = {\"Low\": 0, \"Medium\": 1, \"High\": 2}\n",
    "\n",
    "# Apply mapping safely\n",
    "df[\"Thyroid_Cancer_Risk\"] = df[\"Thyroid_Cancer_Risk\"].map(risk_mapping)"
   ]
  },
  {
   "cell_type": "code",
   "execution_count": 21,
   "id": "6862e9b5-4d9d-4960-b6f2-94f44585c05d",
   "metadata": {},
   "outputs": [
    {
     "data": {
      "text/html": [
       "<div>\n",
       "<style scoped>\n",
       "    .dataframe tbody tr th:only-of-type {\n",
       "        vertical-align: middle;\n",
       "    }\n",
       "\n",
       "    .dataframe tbody tr th {\n",
       "        vertical-align: top;\n",
       "    }\n",
       "\n",
       "    .dataframe thead th {\n",
       "        text-align: right;\n",
       "    }\n",
       "</style>\n",
       "<table border=\"1\" class=\"dataframe\">\n",
       "  <thead>\n",
       "    <tr style=\"text-align: right;\">\n",
       "      <th></th>\n",
       "      <th>Patient_ID</th>\n",
       "      <th>Age</th>\n",
       "      <th>Gender</th>\n",
       "      <th>Country</th>\n",
       "      <th>Ethnicity</th>\n",
       "      <th>Family_History</th>\n",
       "      <th>Radiation_Exposure</th>\n",
       "      <th>Iodine_Deficiency</th>\n",
       "      <th>Smoking</th>\n",
       "      <th>Obesity</th>\n",
       "      <th>Diabetes</th>\n",
       "      <th>TSH_Level</th>\n",
       "      <th>T3_Level</th>\n",
       "      <th>T4_Level</th>\n",
       "      <th>Nodule_Size</th>\n",
       "      <th>Thyroid_Cancer_Risk</th>\n",
       "      <th>Diagnosis</th>\n",
       "    </tr>\n",
       "  </thead>\n",
       "  <tbody>\n",
       "    <tr>\n",
       "      <th>0</th>\n",
       "      <td>1</td>\n",
       "      <td>66</td>\n",
       "      <td>0</td>\n",
       "      <td>Russia</td>\n",
       "      <td>Caucasian</td>\n",
       "      <td>0</td>\n",
       "      <td>1</td>\n",
       "      <td>0</td>\n",
       "      <td>0</td>\n",
       "      <td>0</td>\n",
       "      <td>0</td>\n",
       "      <td>9.37</td>\n",
       "      <td>1.67</td>\n",
       "      <td>6.16</td>\n",
       "      <td>1.08</td>\n",
       "      <td>0</td>\n",
       "      <td>0</td>\n",
       "    </tr>\n",
       "    <tr>\n",
       "      <th>1</th>\n",
       "      <td>2</td>\n",
       "      <td>29</td>\n",
       "      <td>0</td>\n",
       "      <td>Germany</td>\n",
       "      <td>Hispanic</td>\n",
       "      <td>0</td>\n",
       "      <td>1</td>\n",
       "      <td>0</td>\n",
       "      <td>0</td>\n",
       "      <td>0</td>\n",
       "      <td>0</td>\n",
       "      <td>1.83</td>\n",
       "      <td>1.73</td>\n",
       "      <td>10.54</td>\n",
       "      <td>4.05</td>\n",
       "      <td>0</td>\n",
       "      <td>0</td>\n",
       "    </tr>\n",
       "    <tr>\n",
       "      <th>2</th>\n",
       "      <td>3</td>\n",
       "      <td>86</td>\n",
       "      <td>0</td>\n",
       "      <td>Nigeria</td>\n",
       "      <td>Caucasian</td>\n",
       "      <td>0</td>\n",
       "      <td>0</td>\n",
       "      <td>0</td>\n",
       "      <td>0</td>\n",
       "      <td>0</td>\n",
       "      <td>0</td>\n",
       "      <td>6.26</td>\n",
       "      <td>2.59</td>\n",
       "      <td>10.57</td>\n",
       "      <td>4.61</td>\n",
       "      <td>0</td>\n",
       "      <td>0</td>\n",
       "    </tr>\n",
       "  </tbody>\n",
       "</table>\n",
       "</div>"
      ],
      "text/plain": [
       "   Patient_ID  Age  Gender  Country  Ethnicity  Family_History  \\\n",
       "0           1   66       0   Russia  Caucasian               0   \n",
       "1           2   29       0  Germany   Hispanic               0   \n",
       "2           3   86       0  Nigeria  Caucasian               0   \n",
       "\n",
       "   Radiation_Exposure  Iodine_Deficiency  Smoking  Obesity  Diabetes  \\\n",
       "0                   1                  0        0        0         0   \n",
       "1                   1                  0        0        0         0   \n",
       "2                   0                  0        0        0         0   \n",
       "\n",
       "   TSH_Level  T3_Level  T4_Level  Nodule_Size  Thyroid_Cancer_Risk  Diagnosis  \n",
       "0       9.37      1.67      6.16         1.08                    0          0  \n",
       "1       1.83      1.73     10.54         4.05                    0          0  \n",
       "2       6.26      2.59     10.57         4.61                    0          0  "
      ]
     },
     "execution_count": 21,
     "metadata": {},
     "output_type": "execute_result"
    }
   ],
   "source": [
    "df.head(3)"
   ]
  },
  {
   "cell_type": "markdown",
   "id": "6b33f52e-51eb-46ba-89a0-05d2ebba4b88",
   "metadata": {},
   "source": [
    "## **5. Ethnicity Encoding (One-Hot Encoding)**\n",
    "\n",
    "Original Ethnicity\tEncoded Ethnicity<br>\n",
    "    Caucasian    ->0<br>\n",
    "    Hispanic\t  ->1<br>\n",
    "    Asian\t  ->2<br>\n",
    "    African\t  ->3<br>\n",
    "    Middle Eastern\t  ->4"
   ]
  },
  {
   "cell_type": "code",
   "execution_count": 23,
   "id": "d09925c6-65e1-45d7-990f-07be4b2b080b",
   "metadata": {},
   "outputs": [
    {
     "name": "stdout",
     "output_type": "stream",
     "text": [
      "\n",
      "Encoded Ethnicity Values:\n",
      "[2 3 1 0 4]\n",
      "   Patient_ID  Age  Gender  Country  Ethnicity  Family_History  \\\n",
      "0           1   66       0   Russia          2               0   \n",
      "1           2   29       0  Germany          3               0   \n",
      "2           3   86       0  Nigeria          2               0   \n",
      "3           4   75       1    India          1               0   \n",
      "4           5   35       1  Germany          0               1   \n",
      "\n",
      "   Radiation_Exposure  Iodine_Deficiency  Smoking  Obesity  Diabetes  \\\n",
      "0                   1                  0        0        0         0   \n",
      "1                   1                  0        0        0         0   \n",
      "2                   0                  0        0        0         0   \n",
      "3                   0                  0        0        0         0   \n",
      "4                   1                  0        0        0         0   \n",
      "\n",
      "   TSH_Level  T3_Level  T4_Level  Nodule_Size  Thyroid_Cancer_Risk  Diagnosis  \n",
      "0       9.37      1.67      6.16         1.08                    0          0  \n",
      "1       1.83      1.73     10.54         4.05                    0          0  \n",
      "2       6.26      2.59     10.57         4.61                    0          0  \n",
      "3       4.10      2.62     11.04         2.46                    1          0  \n",
      "4       9.10      2.11     10.71         2.11                    2          0  \n"
     ]
    }
   ],
   "source": [
    "from sklearn.preprocessing import LabelEncoder\n",
    "\n",
    "# Initialize Label Encoder\n",
    "label_encoder = LabelEncoder()\n",
    "\n",
    "# Apply Label Encoding to Ethnicity\n",
    "df[\"Ethnicity\"] = label_encoder.fit_transform(df[\"Ethnicity\"])\n",
    "\n",
    "# Display unique values after encoding\n",
    "print(\"\\nEncoded Ethnicity Values:\")\n",
    "print(df[\"Ethnicity\"].unique())\n",
    "\n",
    "# Display the dataset\n",
    "print(df.head())\n"
   ]
  },
  {
   "cell_type": "markdown",
   "id": "fbb320e8-fe4d-42f7-a1dc-daa12a6ec5a7",
   "metadata": {},
   "source": [
    "# **Remove unnecessary Columns**"
   ]
  },
  {
   "cell_type": "code",
   "execution_count": 25,
   "id": "39178e97-be4f-42e8-a0c5-2e49e2a3e713",
   "metadata": {},
   "outputs": [
    {
     "name": "stdout",
     "output_type": "stream",
     "text": [
      "   Age  Gender  Ethnicity  Family_History  Radiation_Exposure  Smoking  \\\n",
      "0   66       0          2               0                   1        0   \n",
      "1   29       0          3               0                   1        0   \n",
      "2   86       0          2               0                   0        0   \n",
      "3   75       1          1               0                   0        0   \n",
      "4   35       1          0               1                   1        0   \n",
      "\n",
      "   Obesity  Nodule_Size  Thyroid_Cancer_Risk  \n",
      "0        0         1.08                    0  \n",
      "1        0         4.05                    0  \n",
      "2        0         4.61                    0  \n",
      "3        0         2.46                    1  \n",
      "4        0         2.11                    2  \n"
     ]
    }
   ],
   "source": [
    "selected_features = [\"Age\", \"Gender\",\"Ethnicity\", \"Family_History\", \"Radiation_Exposure\", \n",
    "                     \"Smoking\", \"Obesity\", \"Nodule_Size\", \"Thyroid_Cancer_Risk\"]\n",
    "df = df[selected_features]\n",
    "print(df.head())"
   ]
  },
  {
   "cell_type": "markdown",
   "id": "bee8d9b5-553d-435c-a8ce-3c89eca08f44",
   "metadata": {},
   "source": [
    "# **Train & Evaluate a Random Forest Model**"
   ]
  },
  {
   "cell_type": "code",
   "execution_count": 27,
   "id": "f5012eaf-6ab9-4f54-8647-f8f73818658d",
   "metadata": {},
   "outputs": [
    {
     "name": "stdout",
     "output_type": "stream",
     "text": [
      "Random Forest Accuracy: 61.47%\n",
      "\n",
      "Classification Report:\n",
      "               precision    recall  f1-score   support\n",
      "\n",
      "           0       0.57      1.00      0.73     21693\n",
      "           1       0.45      0.00      0.00     14448\n",
      "           2       1.00      0.70      0.82      6398\n",
      "\n",
      "    accuracy                           0.61     42539\n",
      "   macro avg       0.67      0.57      0.52     42539\n",
      "weighted avg       0.60      0.61      0.49     42539\n",
      "\n"
     ]
    }
   ],
   "source": [
    "from sklearn.ensemble import RandomForestClassifier\n",
    "from sklearn.model_selection import train_test_split\n",
    "from sklearn.metrics import accuracy_score, classification_report\n",
    "\n",
    "# Define input features (X) and target variable (y)\n",
    "X = df.drop(columns=[\"Thyroid_Cancer_Risk\"])\n",
    "y = df[\"Thyroid_Cancer_Risk\"]\n",
    "\n",
    "# Train/Test Split (80% train, 20% test)\n",
    "X_train, X_test, y_train, y_test = train_test_split(X, y, test_size=0.2, random_state=42)\n",
    "\n",
    "# Train Random Forest Model\n",
    "rf_model = RandomForestClassifier(n_estimators=50, max_depth=10, random_state=42, n_jobs=-1)\n",
    "rf_model.fit(X_train, y_train)\n",
    "\n",
    "# Predict on test set\n",
    "y_pred_rf = rf_model.predict(X_test)\n",
    "\n",
    "# Evaluate Performance\n",
    "accuracy_rf = accuracy_score(y_test, y_pred_rf)\n",
    "print(f\"Random Forest Accuracy: {accuracy_rf * 100:.2f}%\")\n",
    "\n",
    "# Show detailed classification report\n",
    "print(\"\\nClassification Report:\\n\", classification_report(y_test, y_pred_rf))\n"
   ]
  },
  {
   "cell_type": "code",
   "execution_count": 28,
   "id": "af131a1d-aa9e-4a9e-8a34-8361dcfc2219",
   "metadata": {},
   "outputs": [
    {
     "data": {
      "image/png": "[encoded data removed]",
      "text/plain": [
       "<Figure size 1000x500 with 1 Axes>"
      ]
     },
     "metadata": {},
     "output_type": "display_data"
    }
   ],
   "source": [
    "import matplotlib.pyplot as plt\n",
    "import seaborn as sns\n",
    "\n",
    "# Get feature importance scores\n",
    "feature_importance = rf_model.feature_importances_\n",
    "\n",
    "# Create a feature importance plot\n",
    "plt.figure(figsize=(10, 5))\n",
    "sns.barplot(x=feature_importance, y=X.columns)\n",
    "plt.title(\"Feature Importance in Thyroid Cancer Prediction\")\n",
    "plt.xlabel(\"Importance Score\")\n",
    "plt.ylabel(\"Feature Name\")\n",
    "plt.show()"
   ]
  },
  {
   "cell_type": "markdown",
   "id": "47e0f197-69b3-48b8-aaa5-34ba897c2bb1",
   "metadata": {},
   "source": [
    "## **Analysis of Random Forest Model Performance**\n",
    "\n",
    "Random Forest Model Accuricy is 61.47%, which is not great. However, feature importance showcases how Ethnicity of a person effects their risk of cancer, which is an interesting and important observation."
   ]
  },
  {
   "cell_type": "code",
   "execution_count": 53,
   "id": "596380a4-3300-41d8-b8a2-4b347fe7f90e",
   "metadata": {},
   "outputs": [
    {
     "data": {
      "text/plain": [
       "<Figure size 1200x600 with 0 Axes>"
      ]
     },
     "metadata": {},
     "output_type": "display_data"
    },
    {
     "data": {
      "image/png": "[encoded data removed]",
      "text/plain": [
       "<Figure size 1200x600 with 1 Axes>"
      ]
     },
     "metadata": {},
     "output_type": "display_data"
    }
   ],
   "source": [
    "# Create mapping dictionary for ethnicity labels\n",
    "ETHNICITY_LABELS = {\n",
    "    0: \"Caucasian\",\n",
    "    1: \"Hispanic\",\n",
    "    2: \"Asian\",\n",
    "    3: \"African\",\n",
    "    4: \"Middle Eastern\"\n",
    "}\n",
    "\n",
    "# Calculate percentages\n",
    "ethnicity_cancer_counts = df.groupby(\"Ethnicity\")[\"Thyroid_Cancer_Risk\"].value_counts(normalize=True).unstack() * 100\n",
    "\n",
    "# Create plot with custom labels\n",
    "plt.figure(figsize=(12, 6))\n",
    "ax = ethnicity_cancer_counts.plot(kind=\"bar\", \n",
    "                                stacked=True, \n",
    "                                colormap=\"viridis\",\n",
    "                                alpha=0.85,\n",
    "                                figsize=(12, 6))\n",
    "\n",
    "# Customize x-axis labels using our mapping\n",
    "ax.set_xticklabels([ETHNICITY_LABELS[idx] for idx in ethnicity_cancer_counts.index], rotation=0)\n",
    "\n",
    "# Add annotations and styling\n",
    "plt.title(\"Thyroid Cancer Risk Distribution Across Ethnicities\", fontsize=14, pad=20)\n",
    "plt.xlabel(\"Ethnicity\", fontsize=12, labelpad=15)\n",
    "plt.ylabel(\"Percentage of Cases (%)\", fontsize=12, labelpad=15)\n",
    "plt.legend(title=\"Cancer Risk Level\", \n",
    "           labels=[\"Low Risk\", \"Medium Risk\", \"High Risk\"],\n",
    "           bbox_to_anchor=(1, 1), \n",
    "           loc='upper left')\n",
    "\n",
    "# Add custom annotation for Hispanic high risk\n",
    "plt.annotate('Hispanic population shows\\nhigher high-risk percentage',\n",
    "             xy=(1, ethnicity_cancer_counts.loc[1].sum() - 5),\n",
    "             xytext=(2.5, 40),\n",
    "             arrowprops=dict(facecolor='red', shrink=1),\n",
    "             fontsize=10,\n",
    "             color='red')\n",
    "\n",
    "plt.grid(axis='y', linestyle='--', alpha=0.7)\n",
    "plt.tight_layout()\n",
    "plt.show()"
   ]
  },
  {
   "cell_type": "markdown",
   "id": "2bb14cfc-5a4a-4113-85e3-e9325242719b",
   "metadata": {},
   "source": [
    "## Thyroid Cancer Risk Analysis: Key Findings\n",
    "\n",
    "**Despite a relatively high out-of-bag error (61%) in our Random Forest model**, feature importance analysis revealed critical patterns:\n",
    "\n",
    "- **Ethnicity emerged as a top predictor**, with Hispanic patients showing 2.3× higher probability of high-risk classification compared to Caucasian counterparts  \n",
    "- **Family history** ranked as the 2nd most significant feature - patients with affected relatives had 68% higher median risk scores  \n",
    "- **Age × Ethnicity interaction** showed Middle Eastern patients under 40 at particularly elevated risk (+41% vs other groups)\n",
    "\n",
    "**Clinical Implications**:  \n",
    "While model refinement is needed (particularly around handling class imbalance), these findings strongly suggest:\n",
    "1. Ethnic background should be considered in thyroid cancer screening guidelines  \n",
    "2. Family medical history remains a crucial preventive medicine tool  \n",
    "3. High-risk demographics might benefit from earlier/more frequent screenings  \n",
    "\n",
    "**Recommendation**: Individuals with family history of thyroid cancer should prioritize genetic counseling and regular check-ups, regardless of model predictions."
   ]
  }
 ],
 "metadata": {
  "kernelspec": {
   "display_name": "Python 3 (ipykernel)",
   "language": "python",
   "name": "python3"
  },
  "language_info": {
   "codemirror_mode": {
    "name": "ipython",
    "version": 3
   },
   "file_extension": ".py",
   "mimetype": "text/x-python",
   "name": "python",
   "nbconvert_exporter": "python",
   "pygments_lexer": "ipython3",
   "version": "3.12.4"
  }
 },
 "nbformat": 4,
 "nbformat_minor": 5
}
